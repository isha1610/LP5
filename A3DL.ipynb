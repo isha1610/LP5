{
 "cells": [
  {
   "cell_type": "code",
   "execution_count": 2,
   "id": "b6596bb9",
   "metadata": {},
   "outputs": [],
   "source": [
    "import pandas as pd\n",
    "import numpy as np\n",
    "import matplotlib.pyplot as plt"
   ]
  },
  {
   "cell_type": "code",
   "execution_count": 4,
   "id": "b99e76e0",
   "metadata": {},
   "outputs": [
    {
     "data": {
      "text/html": [
       "<div>\n",
       "<style scoped>\n",
       "    .dataframe tbody tr th:only-of-type {\n",
       "        vertical-align: middle;\n",
       "    }\n",
       "\n",
       "    .dataframe tbody tr th {\n",
       "        vertical-align: top;\n",
       "    }\n",
       "\n",
       "    .dataframe thead th {\n",
       "        text-align: right;\n",
       "    }\n",
       "</style>\n",
       "<table border=\"1\" class=\"dataframe\">\n",
       "  <thead>\n",
       "    <tr style=\"text-align: right;\">\n",
       "      <th></th>\n",
       "      <th>Date</th>\n",
       "      <th>Open</th>\n",
       "      <th>High</th>\n",
       "      <th>Low</th>\n",
       "      <th>Close</th>\n",
       "      <th>Volume</th>\n",
       "    </tr>\n",
       "  </thead>\n",
       "  <tbody>\n",
       "    <tr>\n",
       "      <th>0</th>\n",
       "      <td>1/3/2012</td>\n",
       "      <td>325.25</td>\n",
       "      <td>332.83</td>\n",
       "      <td>324.97</td>\n",
       "      <td>663.59</td>\n",
       "      <td>7,380,500</td>\n",
       "    </tr>\n",
       "    <tr>\n",
       "      <th>1</th>\n",
       "      <td>1/4/2012</td>\n",
       "      <td>331.27</td>\n",
       "      <td>333.87</td>\n",
       "      <td>329.08</td>\n",
       "      <td>666.45</td>\n",
       "      <td>5,749,400</td>\n",
       "    </tr>\n",
       "    <tr>\n",
       "      <th>2</th>\n",
       "      <td>1/5/2012</td>\n",
       "      <td>329.83</td>\n",
       "      <td>330.75</td>\n",
       "      <td>326.89</td>\n",
       "      <td>657.21</td>\n",
       "      <td>6,590,300</td>\n",
       "    </tr>\n",
       "    <tr>\n",
       "      <th>3</th>\n",
       "      <td>1/6/2012</td>\n",
       "      <td>328.34</td>\n",
       "      <td>328.77</td>\n",
       "      <td>323.68</td>\n",
       "      <td>648.24</td>\n",
       "      <td>5,405,900</td>\n",
       "    </tr>\n",
       "    <tr>\n",
       "      <th>4</th>\n",
       "      <td>1/9/2012</td>\n",
       "      <td>322.04</td>\n",
       "      <td>322.29</td>\n",
       "      <td>309.46</td>\n",
       "      <td>620.76</td>\n",
       "      <td>11,688,800</td>\n",
       "    </tr>\n",
       "  </tbody>\n",
       "</table>\n",
       "</div>"
      ],
      "text/plain": [
       "       Date    Open    High     Low   Close      Volume\n",
       "0  1/3/2012  325.25  332.83  324.97  663.59   7,380,500\n",
       "1  1/4/2012  331.27  333.87  329.08  666.45   5,749,400\n",
       "2  1/5/2012  329.83  330.75  326.89  657.21   6,590,300\n",
       "3  1/6/2012  328.34  328.77  323.68  648.24   5,405,900\n",
       "4  1/9/2012  322.04  322.29  309.46  620.76  11,688,800"
      ]
     },
     "execution_count": 4,
     "metadata": {},
     "output_type": "execute_result"
    }
   ],
   "source": [
    "train_df = pd.read_csv('Google_Stock_Price_Train.csv')\n",
    "train_df.head()"
   ]
  },
  {
   "cell_type": "code",
   "execution_count": 6,
   "id": "a8db5645",
   "metadata": {},
   "outputs": [
    {
     "data": {
      "text/html": [
       "<div>\n",
       "<style scoped>\n",
       "    .dataframe tbody tr th:only-of-type {\n",
       "        vertical-align: middle;\n",
       "    }\n",
       "\n",
       "    .dataframe tbody tr th {\n",
       "        vertical-align: top;\n",
       "    }\n",
       "\n",
       "    .dataframe thead th {\n",
       "        text-align: right;\n",
       "    }\n",
       "</style>\n",
       "<table border=\"1\" class=\"dataframe\">\n",
       "  <thead>\n",
       "    <tr style=\"text-align: right;\">\n",
       "      <th></th>\n",
       "      <th>Date</th>\n",
       "      <th>Open</th>\n",
       "      <th>High</th>\n",
       "      <th>Low</th>\n",
       "      <th>Close</th>\n",
       "      <th>Volume</th>\n",
       "    </tr>\n",
       "  </thead>\n",
       "  <tbody>\n",
       "    <tr>\n",
       "      <th>0</th>\n",
       "      <td>1/3/2017</td>\n",
       "      <td>778.81</td>\n",
       "      <td>789.63</td>\n",
       "      <td>775.80</td>\n",
       "      <td>786.14</td>\n",
       "      <td>1,657,300</td>\n",
       "    </tr>\n",
       "    <tr>\n",
       "      <th>1</th>\n",
       "      <td>1/4/2017</td>\n",
       "      <td>788.36</td>\n",
       "      <td>791.34</td>\n",
       "      <td>783.16</td>\n",
       "      <td>786.90</td>\n",
       "      <td>1,073,000</td>\n",
       "    </tr>\n",
       "    <tr>\n",
       "      <th>2</th>\n",
       "      <td>1/5/2017</td>\n",
       "      <td>786.08</td>\n",
       "      <td>794.48</td>\n",
       "      <td>785.02</td>\n",
       "      <td>794.02</td>\n",
       "      <td>1,335,200</td>\n",
       "    </tr>\n",
       "    <tr>\n",
       "      <th>3</th>\n",
       "      <td>1/6/2017</td>\n",
       "      <td>795.26</td>\n",
       "      <td>807.90</td>\n",
       "      <td>792.20</td>\n",
       "      <td>806.15</td>\n",
       "      <td>1,640,200</td>\n",
       "    </tr>\n",
       "    <tr>\n",
       "      <th>4</th>\n",
       "      <td>1/9/2017</td>\n",
       "      <td>806.40</td>\n",
       "      <td>809.97</td>\n",
       "      <td>802.83</td>\n",
       "      <td>806.65</td>\n",
       "      <td>1,272,400</td>\n",
       "    </tr>\n",
       "  </tbody>\n",
       "</table>\n",
       "</div>"
      ],
      "text/plain": [
       "       Date    Open    High     Low   Close     Volume\n",
       "0  1/3/2017  778.81  789.63  775.80  786.14  1,657,300\n",
       "1  1/4/2017  788.36  791.34  783.16  786.90  1,073,000\n",
       "2  1/5/2017  786.08  794.48  785.02  794.02  1,335,200\n",
       "3  1/6/2017  795.26  807.90  792.20  806.15  1,640,200\n",
       "4  1/9/2017  806.40  809.97  802.83  806.65  1,272,400"
      ]
     },
     "execution_count": 6,
     "metadata": {},
     "output_type": "execute_result"
    }
   ],
   "source": [
    "test_df = pd.read_csv('Google_Stock_Price_Test.csv')\n",
    "test_df.head()"
   ]
  },
  {
   "cell_type": "code",
   "execution_count": 7,
   "id": "72d854e2",
   "metadata": {},
   "outputs": [],
   "source": [
    "#choose open coln for predictions\n",
    "train = train_df.loc[:,['Open']].values"
   ]
  },
  {
   "cell_type": "code",
   "execution_count": 9,
   "id": "570c42e7",
   "metadata": {},
   "outputs": [
    {
     "data": {
      "text/plain": [
       "(1258, 1)"
      ]
     },
     "execution_count": 9,
     "metadata": {},
     "output_type": "execute_result"
    }
   ],
   "source": [
    "train.shape"
   ]
  },
  {
   "cell_type": "code",
   "execution_count": 10,
   "id": "fd6aab1d",
   "metadata": {},
   "outputs": [],
   "source": [
    "#feature scaling\n",
    "from sklearn.preprocessing import MinMaxScaler\n",
    "scaler = MinMaxScaler()"
   ]
  },
  {
   "cell_type": "code",
   "execution_count": 11,
   "id": "d8575e6d",
   "metadata": {},
   "outputs": [],
   "source": [
    "train_scaled = scaler.fit_transform(train)"
   ]
  },
  {
   "cell_type": "code",
   "execution_count": 12,
   "id": "57bb49fd",
   "metadata": {},
   "outputs": [
    {
     "data": {
      "image/png": "[encoded data removed]",
      "text/plain": [
       "<Figure size 640x480 with 1 Axes>"
      ]
     },
     "metadata": {},
     "output_type": "display_data"
    }
   ],
   "source": [
    "plt.plot(train_scaled)\n",
    "plt.xlabel(\"Time-->\")\n",
    "plt.ylabel(\"Standardized values\")\n",
    "plt.show()"
   ]
  },
  {
   "cell_type": "code",
   "execution_count": 14,
   "id": "4e2e9d2d",
   "metadata": {},
   "outputs": [],
   "source": [
    "#create a data structure to train model:\n",
    "x_train = []\n",
    "y_train = []\n",
    "time = 60\n",
    "for i in range(60,train_scaled.shape[0]):\n",
    "    x_train.append(train_scaled[i-60:i,0])\n",
    "    y_train.append(train_scaled[i,0])\n",
    "x_train = np.array(x_train)\n",
    "y_train = np.array(y_train)"
   ]
  },
  {
   "cell_type": "code",
   "execution_count": 15,
   "id": "6370ffb3",
   "metadata": {},
   "outputs": [
    {
     "data": {
      "text/plain": [
       "((1198, 60), (1198,))"
      ]
     },
     "execution_count": 15,
     "metadata": {},
     "output_type": "execute_result"
    }
   ],
   "source": [
    "x_train.shape,y_train.shape"
   ]
  },
  {
   "cell_type": "code",
   "execution_count": 16,
   "id": "b037c394",
   "metadata": {},
   "outputs": [],
   "source": [
    "x_train = np.reshape(x_train,newshape=(x_train.shape[0],x_train.shape[1],1))"
   ]
  },
  {
   "cell_type": "code",
   "execution_count": 17,
   "id": "5f29a723",
   "metadata": {},
   "outputs": [
    {
     "data": {
      "text/plain": [
       "(1198, 60, 1)"
      ]
     },
     "execution_count": 17,
     "metadata": {},
     "output_type": "execute_result"
    }
   ],
   "source": [
    "x_train.shape"
   ]
  },
  {
   "cell_type": "code",
   "execution_count": 20,
   "id": "7a293009",
   "metadata": {},
   "outputs": [],
   "source": [
    "from keras.models import Sequential\n",
    "from keras.layers import Dense,SimpleRNN,Dropout"
   ]
  },
  {
   "cell_type": "code",
   "execution_count": 22,
   "id": "f687d85b",
   "metadata": {},
   "outputs": [
    {
     "name": "stdout",
     "output_type": "stream",
     "text": [
      "Model: \"sequential_1\"\n",
      "_________________________________________________________________\n",
      " Layer (type)                Output Shape              Param #   \n",
      "=================================================================\n",
      " simple_rnn (SimpleRNN)      (None, 60, 50)            2600      \n",
      "                                                                 \n",
      " dropout (Dropout)           (None, 60, 50)            0         \n",
      "                                                                 \n",
      " simple_rnn_1 (SimpleRNN)    (None, 60, 50)            5050      \n",
      "                                                                 \n",
      " dropout_1 (Dropout)         (None, 60, 50)            0         \n",
      "                                                                 \n",
      " simple_rnn_2 (SimpleRNN)    (None, 60, 50)            5050      \n",
      "                                                                 \n",
      " dropout_2 (Dropout)         (None, 60, 50)            0         \n",
      "                                                                 \n",
      " simple_rnn_3 (SimpleRNN)    (None, 50)                5050      \n",
      "                                                                 \n",
      " dropout_3 (Dropout)         (None, 50)                0         \n",
      "                                                                 \n",
      " dense (Dense)               (None, 1)                 51        \n",
      "                                                                 \n",
      "=================================================================\n",
      "Total params: 17,801\n",
      "Trainable params: 17,801\n",
      "Non-trainable params: 0\n",
      "_________________________________________________________________\n"
     ]
    }
   ],
   "source": [
    "model = Sequential()\n",
    "\n",
    "model.add(SimpleRNN(units=50,activation=\"tanh\",return_sequences=True,input_shape=(x_train.shape[1],1)))\n",
    "model.add(Dropout(0.2))\n",
    "\n",
    "model.add(SimpleRNN(units=50,activation=\"tanh\",return_sequences=True))\n",
    "model.add(Dropout(0.2))\n",
    "\n",
    "model.add(SimpleRNN(units=50,activation=\"tanh\",return_sequences=True))\n",
    "model.add(Dropout(0.2))\n",
    "\n",
    "model.add(SimpleRNN(units=50))\n",
    "model.add(Dropout(0.2))\n",
    "\n",
    "model.add(Dense(units=1))\n",
    "\n",
    "model.compile(optimizer=\"adam\", loss='mse')\n",
    "model.summary()\n"
   ]
  },
  {
   "cell_type": "code",
   "execution_count": 23,
   "id": "9c863368",
   "metadata": {},
   "outputs": [
    {
     "name": "stdout",
     "output_type": "stream",
     "text": [
      "Epoch 1/100\n",
      "20/20 [==============================] - 4s 70ms/step - loss: 0.4892 - val_loss: 0.1574\n",
      "Epoch 2/100\n",
      "20/20 [==============================] - 1s 59ms/step - loss: 0.3997 - val_loss: 0.2802\n",
      "Epoch 3/100\n",
      "20/20 [==============================] - 1s 62ms/step - loss: 0.2789 - val_loss: 0.0251\n",
      "Epoch 4/100\n",
      "20/20 [==============================] - 1s 70ms/step - loss: 0.2878 - val_loss: 0.0171\n",
      "Epoch 5/100\n",
      "20/20 [==============================] - 2s 82ms/step - loss: 0.2502 - val_loss: 0.0309\n",
      "Epoch 6/100\n",
      "20/20 [==============================] - 2s 77ms/step - loss: 0.1819 - val_loss: 0.0095\n",
      "Epoch 7/100\n",
      "20/20 [==============================] - 1s 72ms/step - loss: 0.1650 - val_loss: 0.0208\n",
      "Epoch 8/100\n",
      "20/20 [==============================] - 1s 69ms/step - loss: 0.1294 - val_loss: 0.0150\n",
      "Epoch 9/100\n",
      "20/20 [==============================] - 1s 76ms/step - loss: 0.1120 - val_loss: 0.0215\n",
      "Epoch 10/100\n",
      "20/20 [==============================] - 1s 66ms/step - loss: 0.1014 - val_loss: 0.0156\n",
      "Epoch 11/100\n",
      "20/20 [==============================] - 1s 71ms/step - loss: 0.0943 - val_loss: 0.0095\n",
      "Epoch 12/100\n",
      "20/20 [==============================] - 1s 69ms/step - loss: 0.0796 - val_loss: 0.0087\n",
      "Epoch 13/100\n",
      "20/20 [==============================] - 2s 91ms/step - loss: 0.0646 - val_loss: 0.0162\n",
      "Epoch 14/100\n",
      "20/20 [==============================] - 1s 70ms/step - loss: 0.0700 - val_loss: 0.0135\n",
      "Epoch 15/100\n",
      "20/20 [==============================] - 1s 61ms/step - loss: 0.0526 - val_loss: 0.0123\n",
      "Epoch 16/100\n",
      "20/20 [==============================] - 1s 61ms/step - loss: 0.0471 - val_loss: 0.0089\n",
      "Epoch 17/100\n",
      "20/20 [==============================] - 1s 60ms/step - loss: 0.0422 - val_loss: 0.0108\n",
      "Epoch 18/100\n",
      "20/20 [==============================] - 1s 61ms/step - loss: 0.0413 - val_loss: 0.0102\n",
      "Epoch 19/100\n",
      "20/20 [==============================] - 1s 59ms/step - loss: 0.0361 - val_loss: 0.0080\n",
      "Epoch 20/100\n",
      "20/20 [==============================] - 2s 77ms/step - loss: 0.0357 - val_loss: 0.0067\n",
      "Epoch 21/100\n",
      "20/20 [==============================] - 1s 66ms/step - loss: 0.0303 - val_loss: 0.0061\n",
      "Epoch 22/100\n",
      "20/20 [==============================] - 1s 68ms/step - loss: 0.0243 - val_loss: 0.0084\n",
      "Epoch 23/100\n",
      "20/20 [==============================] - 2s 79ms/step - loss: 0.0274 - val_loss: 0.0134\n",
      "Epoch 24/100\n",
      "20/20 [==============================] - 2s 94ms/step - loss: 0.0194 - val_loss: 0.0089\n",
      "Epoch 25/100\n",
      "20/20 [==============================] - 2s 91ms/step - loss: 0.0233 - val_loss: 0.0085\n",
      "Epoch 26/100\n",
      "20/20 [==============================] - 1s 71ms/step - loss: 0.0205 - val_loss: 0.0086\n",
      "Epoch 27/100\n",
      "20/20 [==============================] - 2s 98ms/step - loss: 0.0181 - val_loss: 0.0096\n",
      "Epoch 28/100\n",
      "20/20 [==============================] - 1s 65ms/step - loss: 0.0181 - val_loss: 0.0086\n",
      "Epoch 29/100\n",
      "20/20 [==============================] - 1s 69ms/step - loss: 0.0165 - val_loss: 0.0065\n",
      "Epoch 30/100\n",
      "20/20 [==============================] - 2s 97ms/step - loss: 0.0159 - val_loss: 0.0051\n",
      "Epoch 31/100\n",
      "20/20 [==============================] - 2s 83ms/step - loss: 0.0155 - val_loss: 0.0081\n",
      "Epoch 32/100\n",
      "20/20 [==============================] - 2s 83ms/step - loss: 0.0142 - val_loss: 0.0065\n",
      "Epoch 33/100\n",
      "20/20 [==============================] - 2s 83ms/step - loss: 0.0115 - val_loss: 0.0074\n",
      "Epoch 34/100\n",
      "20/20 [==============================] - 1s 76ms/step - loss: 0.0117 - val_loss: 0.0061\n",
      "Epoch 35/100\n",
      "20/20 [==============================] - 2s 85ms/step - loss: 0.0123 - val_loss: 0.0046\n",
      "Epoch 36/100\n",
      "20/20 [==============================] - 2s 85ms/step - loss: 0.0102 - val_loss: 0.0074\n",
      "Epoch 37/100\n",
      "20/20 [==============================] - 2s 77ms/step - loss: 0.0104 - val_loss: 0.0060\n",
      "Epoch 38/100\n",
      "20/20 [==============================] - 2s 99ms/step - loss: 0.0092 - val_loss: 0.0083\n",
      "Epoch 39/100\n",
      "20/20 [==============================] - 2s 90ms/step - loss: 0.0089 - val_loss: 0.0077\n",
      "Epoch 40/100\n",
      "20/20 [==============================] - 1s 74ms/step - loss: 0.0086 - val_loss: 0.0066\n",
      "Epoch 41/100\n",
      "20/20 [==============================] - 1s 65ms/step - loss: 0.0089 - val_loss: 0.0078\n",
      "Epoch 42/100\n",
      "20/20 [==============================] - 1s 64ms/step - loss: 0.0078 - val_loss: 0.0061\n",
      "Epoch 43/100\n",
      "20/20 [==============================] - 1s 65ms/step - loss: 0.0074 - val_loss: 0.0075\n",
      "Epoch 44/100\n",
      "20/20 [==============================] - 1s 60ms/step - loss: 0.0072 - val_loss: 0.0065\n",
      "Epoch 45/100\n",
      "20/20 [==============================] - 1s 56ms/step - loss: 0.0065 - val_loss: 0.0060\n",
      "Epoch 46/100\n",
      "20/20 [==============================] - 1s 59ms/step - loss: 0.0065 - val_loss: 0.0095\n",
      "Epoch 47/100\n",
      "20/20 [==============================] - 1s 61ms/step - loss: 0.0070 - val_loss: 0.0103\n",
      "Epoch 48/100\n",
      "20/20 [==============================] - 1s 61ms/step - loss: 0.0061 - val_loss: 0.0058\n",
      "Epoch 49/100\n",
      "20/20 [==============================] - 1s 56ms/step - loss: 0.0055 - val_loss: 0.0053\n",
      "Epoch 50/100\n",
      "20/20 [==============================] - 1s 55ms/step - loss: 0.0055 - val_loss: 0.0047\n",
      "Epoch 51/100\n",
      "20/20 [==============================] - 1s 72ms/step - loss: 0.0053 - val_loss: 0.0038\n",
      "Epoch 52/100\n",
      "20/20 [==============================] - 1s 70ms/step - loss: 0.0057 - val_loss: 0.0050\n",
      "Epoch 53/100\n",
      "20/20 [==============================] - 1s 70ms/step - loss: 0.0057 - val_loss: 0.0040\n",
      "Epoch 54/100\n",
      "20/20 [==============================] - 2s 78ms/step - loss: 0.0053 - val_loss: 0.0048\n",
      "Epoch 55/100\n",
      "20/20 [==============================] - 1s 69ms/step - loss: 0.0054 - val_loss: 0.0047\n",
      "Epoch 56/100\n",
      "20/20 [==============================] - 1s 74ms/step - loss: 0.0045 - val_loss: 0.0061\n",
      "Epoch 57/100\n",
      "20/20 [==============================] - 1s 66ms/step - loss: 0.0046 - val_loss: 0.0065\n",
      "Epoch 58/100\n",
      "20/20 [==============================] - 1s 61ms/step - loss: 0.0046 - val_loss: 0.0055\n",
      "Epoch 59/100\n",
      "20/20 [==============================] - 1s 63ms/step - loss: 0.0039 - val_loss: 0.0065\n",
      "Epoch 60/100\n",
      "20/20 [==============================] - 1s 64ms/step - loss: 0.0040 - val_loss: 0.0053\n",
      "Epoch 61/100\n",
      "20/20 [==============================] - 1s 63ms/step - loss: 0.0045 - val_loss: 0.0045\n",
      "Epoch 62/100\n",
      "20/20 [==============================] - 1s 63ms/step - loss: 0.0044 - val_loss: 0.0068\n",
      "Epoch 63/100\n",
      "20/20 [==============================] - 1s 62ms/step - loss: 0.0035 - val_loss: 0.0059\n",
      "Epoch 64/100\n",
      "20/20 [==============================] - 1s 66ms/step - loss: 0.0036 - val_loss: 0.0055\n",
      "Epoch 65/100\n",
      "20/20 [==============================] - 1s 74ms/step - loss: 0.0039 - val_loss: 0.0032\n",
      "Epoch 66/100\n",
      "20/20 [==============================] - 1s 66ms/step - loss: 0.0039 - val_loss: 0.0074\n",
      "Epoch 67/100\n",
      "20/20 [==============================] - 1s 66ms/step - loss: 0.0036 - val_loss: 0.0038\n",
      "Epoch 68/100\n",
      "20/20 [==============================] - 1s 59ms/step - loss: 0.0032 - val_loss: 0.0048\n",
      "Epoch 69/100\n",
      "20/20 [==============================] - 1s 59ms/step - loss: 0.0034 - val_loss: 0.0043\n",
      "Epoch 70/100\n",
      "20/20 [==============================] - 1s 61ms/step - loss: 0.0032 - val_loss: 0.0083\n",
      "Epoch 71/100\n",
      "20/20 [==============================] - 1s 61ms/step - loss: 0.0034 - val_loss: 0.0038\n",
      "Epoch 72/100\n",
      "20/20 [==============================] - 1s 59ms/step - loss: 0.0030 - val_loss: 0.0059\n",
      "Epoch 73/100\n",
      "20/20 [==============================] - 1s 61ms/step - loss: 0.0030 - val_loss: 0.0047\n",
      "Epoch 74/100\n",
      "20/20 [==============================] - 1s 61ms/step - loss: 0.0029 - val_loss: 0.0049\n",
      "Epoch 75/100\n",
      "20/20 [==============================] - 1s 64ms/step - loss: 0.0029 - val_loss: 0.0038\n",
      "Epoch 76/100\n",
      "20/20 [==============================] - 1s 66ms/step - loss: 0.0028 - val_loss: 0.0049\n",
      "Epoch 77/100\n",
      "20/20 [==============================] - 1s 66ms/step - loss: 0.0029 - val_loss: 0.0049\n",
      "Epoch 78/100\n",
      "20/20 [==============================] - 1s 73ms/step - loss: 0.0028 - val_loss: 0.0053\n",
      "Epoch 79/100\n",
      "20/20 [==============================] - 1s 62ms/step - loss: 0.0029 - val_loss: 0.0053\n",
      "Epoch 80/100\n",
      "20/20 [==============================] - 1s 67ms/step - loss: 0.0027 - val_loss: 0.0036\n",
      "Epoch 81/100\n",
      "20/20 [==============================] - 1s 60ms/step - loss: 0.0029 - val_loss: 0.0053\n",
      "Epoch 82/100\n",
      "20/20 [==============================] - 1s 61ms/step - loss: 0.0029 - val_loss: 0.0069\n",
      "Epoch 83/100\n",
      "20/20 [==============================] - 1s 59ms/step - loss: 0.0028 - val_loss: 0.0040\n",
      "Epoch 84/100\n",
      "20/20 [==============================] - 1s 60ms/step - loss: 0.0029 - val_loss: 0.0029\n",
      "Epoch 85/100\n",
      "20/20 [==============================] - 1s 61ms/step - loss: 0.0027 - val_loss: 0.0072\n",
      "Epoch 86/100\n",
      "20/20 [==============================] - 1s 71ms/step - loss: 0.0028 - val_loss: 0.0039\n",
      "Epoch 87/100\n",
      "20/20 [==============================] - 1s 71ms/step - loss: 0.0026 - val_loss: 0.0047\n",
      "Epoch 88/100\n",
      "20/20 [==============================] - 1s 64ms/step - loss: 0.0027 - val_loss: 0.0060\n",
      "Epoch 89/100\n",
      "20/20 [==============================] - 1s 59ms/step - loss: 0.0022 - val_loss: 0.0037\n",
      "Epoch 90/100\n",
      "20/20 [==============================] - 1s 65ms/step - loss: 0.0025 - val_loss: 0.0064\n",
      "Epoch 91/100\n",
      "20/20 [==============================] - 1s 58ms/step - loss: 0.0026 - val_loss: 0.0049\n",
      "Epoch 92/100\n",
      "20/20 [==============================] - 1s 60ms/step - loss: 0.0023 - val_loss: 0.0030\n",
      "Epoch 93/100\n",
      "20/20 [==============================] - 1s 58ms/step - loss: 0.0024 - val_loss: 0.0041\n",
      "Epoch 94/100\n",
      "20/20 [==============================] - 1s 60ms/step - loss: 0.0023 - val_loss: 0.0059\n",
      "Epoch 95/100\n",
      "20/20 [==============================] - 1s 60ms/step - loss: 0.0025 - val_loss: 0.0040\n",
      "Epoch 96/100\n",
      "20/20 [==============================] - 1s 62ms/step - loss: 0.0023 - val_loss: 0.0054\n",
      "Epoch 97/100\n",
      "20/20 [==============================] - 1s 64ms/step - loss: 0.0022 - val_loss: 0.0051\n",
      "Epoch 98/100\n",
      "20/20 [==============================] - 1s 74ms/step - loss: 0.0021 - val_loss: 0.0038\n",
      "Epoch 99/100\n",
      "20/20 [==============================] - 1s 67ms/step - loss: 0.0019 - val_loss: 0.0069\n",
      "Epoch 100/100\n",
      "20/20 [==============================] - 1s 65ms/step - loss: 0.0021 - val_loss: 0.0053\n"
     ]
    },
    {
     "data": {
      "text/plain": [
       "<keras.callbacks.History at 0x24e73932410>"
      ]
     },
     "execution_count": 23,
     "metadata": {},
     "output_type": "execute_result"
    }
   ],
   "source": [
    "model.fit(x_train,y_train,epochs=100,batch_size=30,validation_split=0.5)"
   ]
  },
  {
   "cell_type": "code",
   "execution_count": 25,
   "id": "31e15f94",
   "metadata": {},
   "outputs": [],
   "source": [
    "#prepare test data\n",
    "data = pd.concat((train_df['Open'],test_df['Open']),axis=0)"
   ]
  },
  {
   "cell_type": "code",
   "execution_count": 27,
   "id": "f68d0914",
   "metadata": {},
   "outputs": [
    {
     "data": {
      "text/plain": [
       "(80,)"
      ]
     },
     "execution_count": 27,
     "metadata": {},
     "output_type": "execute_result"
    }
   ],
   "source": [
    "test_input=data.iloc[len(data) - len(test_df)-time :].values\n",
    "test_input.shape"
   ]
  },
  {
   "cell_type": "code",
   "execution_count": 29,
   "id": "13b26aeb",
   "metadata": {},
   "outputs": [
    {
     "data": {
      "text/plain": [
       "(1, 1)"
      ]
     },
     "execution_count": 29,
     "metadata": {},
     "output_type": "execute_result"
    }
   ],
   "source": [
    "test_input = test_input.reshape(-1,1)\n",
    "test_input.shape"
   ]
  },
  {
   "cell_type": "code",
   "execution_count": 32,
   "id": "56a783df",
   "metadata": {},
   "outputs": [],
   "source": [
    "test_scaled = scaler.fit_transform(test_input)"
   ]
  },
  {
   "cell_type": "code",
   "execution_count": 36,
   "id": "053bd11f",
   "metadata": {},
   "outputs": [
    {
     "data": {
      "text/plain": [
       "(20, 60)"
      ]
     },
     "execution_count": 36,
     "metadata": {},
     "output_type": "execute_result"
    }
   ],
   "source": [
    "#create test data\n",
    "x_test = []\n",
    "for i in range(time,test_scaled.shape[0]):\n",
    "    x_test.append(test_scaled[i-time: i,0])\n",
    "x_test = np.array(x_test)\n",
    "x_test.shape\n"
   ]
  },
  {
   "cell_type": "code",
   "execution_count": 37,
   "id": "b2f680dc",
   "metadata": {},
   "outputs": [
    {
     "data": {
      "text/plain": [
       "(20, 60, 1)"
      ]
     },
     "execution_count": 37,
     "metadata": {},
     "output_type": "execute_result"
    }
   ],
   "source": [
    "#reshape \n",
    "x_test = np.reshape(x_test, newshape = (x_test.shape[0], x_test.shape[1],1))\n",
    "x_test.shape"
   ]
  },
  {
   "cell_type": "code",
   "execution_count": 38,
   "id": "7b5d4247",
   "metadata": {},
   "outputs": [],
   "source": [
    "y_test = test_df.loc[:,[\"Open\"]].values"
   ]
  },
  {
   "cell_type": "code",
   "execution_count": 39,
   "id": "0f29e4e6",
   "metadata": {},
   "outputs": [
    {
     "name": "stdout",
     "output_type": "stream",
     "text": [
      "1/1 [==============================] - 0s 380ms/step\n"
     ]
    }
   ],
   "source": [
    "#model prediction\n",
    "y_pred = model.predict(x_test)"
   ]
  },
  {
   "cell_type": "code",
   "execution_count": 40,
   "id": "f715adab",
   "metadata": {},
   "outputs": [],
   "source": [
    "y_pred = scaler.inverse_transform(y_pred)"
   ]
  },
  {
   "cell_type": "code",
   "execution_count": 41,
   "id": "beea48c0",
   "metadata": {},
   "outputs": [
    {
     "name": "stdout",
     "output_type": "stream",
     "text": [
      "1/1 [==============================] - 0s 476ms/step - loss: 651361.0000\n"
     ]
    }
   ],
   "source": [
    "output = model.evaluate(x=x_test,y=y_test)"
   ]
  },
  {
   "cell_type": "code",
   "execution_count": null,
   "id": "d15e55a3",
   "metadata": {},
   "outputs": [],
   "source": [
    "plt.plot(y_test, color = 'red', label = 'Real Price')\n",
    "plt.plot(y_pred, color = 'blue', label = 'Predicted Price')\n",
    "\n",
    "plt.title(\"Sample\")\n"
   ]
  }
 ],
 "metadata": {
  "kernelspec": {
   "display_name": "Python 3 (ipykernel)",
   "language": "python",
   "name": "python3"
  },
  "language_info": {
   "codemirror_mode": {
    "name": "ipython",
    "version": 3
   },
   "file_extension": ".py",
   "mimetype": "text/x-python",
   "name": "python",
   "nbconvert_exporter": "python",
   "pygments_lexer": "ipython3",
   "version": "3.10.6"
  }
 },
 "nbformat": 4,
 "nbformat_minor": 5
}
